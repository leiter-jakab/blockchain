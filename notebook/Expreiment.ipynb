{
 "cells": [
  {
   "cell_type": "code",
   "execution_count": 3,
   "metadata": {},
   "outputs": [],
   "source": [
    "from blockchain.blockchain import Block, DataObject\n",
    "from blockchain.network_events import NetworkEvent\n",
    "from blockchain import signing"
   ]
  },
  {
   "cell_type": "code",
   "execution_count": 4,
   "metadata": {},
   "outputs": [
    {
     "data": {
      "text/plain": [
       "(<cryptography.hazmat.backends.openssl.rsa._RSAPrivateKey at 0x7f3d10023748>,\n",
       " <cryptography.hazmat.backends.openssl.rsa._RSAPublicKey at 0x7f3d100234a8>)"
      ]
     },
     "execution_count": 4,
     "metadata": {},
     "output_type": "execute_result"
    }
   ],
   "source": [
    "pr, pu = signing.generate_keys()\n",
    "pr, pu"
   ]
  },
  {
   "cell_type": "code",
   "execution_count": 5,
   "metadata": {},
   "outputs": [],
   "source": [
    "block = Block.new_block((NetworkEvent.new_connect_event(pu, 'host', '234', pr),), None)"
   ]
  },
  {
   "cell_type": "code",
   "execution_count": 6,
   "metadata": {},
   "outputs": [
    {
     "data": {
      "text/plain": [
       "'{\"data\": [{\"topic\": \"TOPIC_NETWORK_EVENT\", \"payload\": {\"public_key\": \"2d2d2d2d2d424547494e205055424c4943204b45592d2d2d2d2d0a4d494942496a414e42676b71686b6947397730424151454641414f43415138414d49494243674b4341514541756d2f453944437a72696f335231764733734e650a6a4742597964554652643957356d4c57496579487176666d755579426c396b577831687a4545717a6e6c2f585147362b4d56726b66786a3362326d33466736780a78317664557a4a3166776e5271377a3362644f6d3473727a3441726735342f394d66524b326f3331357553325265614f5063464d457873486b6c2b5a7a346f680a693844632b623456656961307274677557434c4854303844366f6741575431614959312b78647044482f624a5948784c73426a6f2f65396c767a584b2b45686b0a5463717073733654306c345a544479697970564e2b7548522b51573232646e445349376c5850664f6e524b775048372b626a7139516b2b4d4f30755a48786e340a5a41475a784c672b6c6a435733374c79305a4c6868374b6c2b3864517237476565616944706e425a344238427a4d726446615257367074507842786d703862550a75514944415141420a2d2d2d2d2d454e44205055424c4943204b45592d2d2d2d2d0a\", \"host\": \"host\", \"port\": \"234\", \"event_type\": \"NETWORK_EVENT_CONNECT\", \"timestamp\": \"1556426732.5779932\", \"signature\": \"16ff7b77ae2c62e2da08df64871991cd716f43e1367b2d7d4395aaee855c90d97d6f2521585eca37806c2279070cb7011e576d26c7b6bb7a3a880d9dd94e754725cfac45e02edac449d9d995533f74727773d85ef8f35d3c4a38e0f58dd0e51bca82160ed6f600f2ef20f5f84f0e84e968fb96177e0b944c7da1377bcff5078d8ed5acc36bd1c465a18b55f4c17716537ae67f22fafd59812fbcb09769b14856d2ed5efe1cb391c0a6be04a5884adcc14ab21affb745b921318f4cca90df7409718a4683fd2b80ea93f1dc1a6db51ac79c082ad52c9f4ab4266a74aa3d0c73aadd28840feb07c575479721d2e255dce5ebe9c3361620d5a2294a226557a15e8c\"}}], \"previous_block_hash\": \"\", \"nonce\": \"\"}'"
      ]
     },
     "execution_count": 6,
     "metadata": {},
     "output_type": "execute_result"
    }
   ],
   "source": [
    "block.as_json()"
   ]
  },
  {
   "cell_type": "code",
   "execution_count": 9,
   "metadata": {},
   "outputs": [],
   "source": [
    "msg = 'asdf'"
   ]
  },
  {
   "cell_type": "code",
   "execution_count": 7,
   "metadata": {},
   "outputs": [
    {
     "data": {
      "text/plain": [
       "'2d2d2d2d2d424547494e205055424c4943204b45592d2d2d2d2d0a4d494942496a414e42676b71686b6947397730424151454641414f43415138414d49494243674b4341514541756d2f453944437a72696f335231764733734e650a6a4742597964554652643957356d4c57496579487176666d755579426c396b577831687a4545717a6e6c2f585147362b4d56726b66786a3362326d33466736780a78317664557a4a3166776e5271377a3362644f6d3473727a3441726735342f394d66524b326f3331357553325265614f5063464d457873486b6c2b5a7a346f680a693844632b623456656961307274677557434c4854303844366f6741575431614959312b78647044482f624a5948784c73426a6f2f65396c767a584b2b45686b0a5463717073733654306c345a544479697970564e2b7548522b51573232646e445349376c5850664f6e524b775048372b626a7139516b2b4d4f30755a48786e340a5a41475a784c672b6c6a435733374c79305a4c6868374b6c2b3864517237476565616944706e425a344238427a4d726446615257367074507842786d703862550a75514944415141420a2d2d2d2d2d454e44205055424c4943204b45592d2d2d2d2d0a'"
      ]
     },
     "execution_count": 7,
     "metadata": {},
     "output_type": "execute_result"
    }
   ],
   "source": [
    "pu_ser = signing.serialize_public_key_as_hex(pu)\n",
    "pu_ser"
   ]
  },
  {
   "cell_type": "code",
   "execution_count": 10,
   "metadata": {
    "scrolled": true
   },
   "outputs": [
    {
     "data": {
      "text/plain": [
       "b'\\x99)\\xc9\\x86\\xcb>\\xd0\\\\\\xf7\\x866\\xe6\\xa2\\x12\\xb3\\rW\\xaa=\\x81\\xf2G\\x93\\x81\\x876\\x18\\xbf\\xb7\\'\\xec\\x0e\\xf9&\\x8f\\x85\\xb5\\x8a8S\\x86M\\xbc\\x82N.\\xb0A\\x97\\x88\\xd0\\xdd\\xd25<\\x02\\x1e\\xd9\\xfd[O\\x16e\\x96\\x82vc2\\xc6\\xa2\\xa4\\xa0w\\xf0\\xb2\\xd0\\xe3\\xdf\\xa4#\\xe4\\nl\\xdb\\xac\\xe0C\\xd6\\xe0\\x8c?\\xf7\\x01\\xc1@\\x0e\\xe0t\\xfcj\\x12\\xe0\\x1e\\xadIL\\x8d\\x19q\\xb1\\x08d\\xe8\\x89\\xf0j\\x16\\x11D\\xe5s\\ndM\\x02y\\xeeZ?\\x19%\\xb1\\x9d\\xa9\\x93F\\x95\\xab\\x86\\x06\\x07w\\x80E=7^b\\xa9\"|\\xd8\\xc4\\xf0d\\xdd\\xb4I\\t\\xa8\\x8b!\\xd2\\x94\\x91\\xf6\\xdf\\x1a\\x00\\xf9\\xba\\x80\\ta\\x01\\x06\\x19\\x07\\xbc2q\\xcf\\xe6\\x93E\\x05C\\xe4F\\'\\xe2,\\xdeJ\\xb6<g\\xd0\\xfb]\\xee\\xbe\\x8c\\x18\\xf2\\x9b\\x02\\x8e\\xd4\\xb4\\xd7:M\\xbf\\xc89\\xdf\\xb4_\\x05\\xe0~\\xc2\\\\f\\x05\\xd1\\xfb\\x0e\\t\\xf8E%E\\xb7Y\\x04\\xd33R)\\xe7\\xe3\\xc6e\\x15\\x18\\x138\\x04=\\xae\\x0c\\xa5\\xb4\\x1c'"
      ]
     },
     "execution_count": 10,
     "metadata": {},
     "output_type": "execute_result"
    }
   ],
   "source": [
    "sig = signing.sign(msg, pr)\n",
    "sig"
   ]
  },
  {
   "cell_type": "code",
   "execution_count": 11,
   "metadata": {},
   "outputs": [
    {
     "data": {
      "text/plain": [
       "True"
      ]
     },
     "execution_count": 11,
     "metadata": {},
     "output_type": "execute_result"
    }
   ],
   "source": [
    "signing.verify(msg, sig, pu)"
   ]
  },
  {
   "cell_type": "code",
   "execution_count": 12,
   "metadata": {},
   "outputs": [
    {
     "data": {
      "text/plain": [
       "'5025882bc9a2118c674e5ce43f2e72bffd798f7b6ef8261ec4c83526b247e4691ce5667e5c48e967805042f90f4ffc13ea69389e3efb8230281b35f6abb4a6dd432ce27c97fd64e055eb6ae8c9b98eb5176d09bf0484b1202b6a43c793fdf29787fae50606291a5b7c887e7e53bcd03285e8b76e270da7b8ceedebe3ba8df08e6cc76da43a1474304443f7e4c4539080f776e60f26062e3576ff0f50f8d5b9dcd1c066588dbdf601231c4519dd711cc17ee3f3b3fe4dd79804dd8697bc803a60f231389bf24e205395e706be04b86b15ed0d512c863a5428e66198c06ab9658b991b115fa28a79f32e1fc0c9c9c0b26084cdb260092e8017e86ab09748751316'"
      ]
     },
     "execution_count": 12,
     "metadata": {},
     "output_type": "execute_result"
    }
   ],
   "source": [
    "hex_sig = signing.sign_as_hex(msg, pr)\n",
    "hex_sig"
   ]
  },
  {
   "cell_type": "code",
   "execution_count": 13,
   "metadata": {},
   "outputs": [
    {
     "data": {
      "text/plain": [
       "True"
      ]
     },
     "execution_count": 13,
     "metadata": {},
     "output_type": "execute_result"
    }
   ],
   "source": [
    "signing.verify_hex(msg, hex_sig, pu)"
   ]
  },
  {
   "cell_type": "code",
   "execution_count": 14,
   "metadata": {},
   "outputs": [],
   "source": [
    "ne = NetworkEvent.new_connect_event(pu, 'loclahost', '5432', pr)"
   ]
  },
  {
   "cell_type": "code",
   "execution_count": 18,
   "metadata": {},
   "outputs": [],
   "source": [
    "ne.payload['host'] = '123.12.323.23'"
   ]
  },
  {
   "cell_type": "code",
   "execution_count": 19,
   "metadata": {},
   "outputs": [
    {
     "data": {
      "text/plain": [
       "VerificationFailure(result_code='SIGNATURE_NOK', message='signature does not match key-pair', payload=None)"
      ]
     },
     "execution_count": 19,
     "metadata": {},
     "output_type": "execute_result"
    }
   ],
   "source": [
    "ne.verify()"
   ]
  },
  {
   "cell_type": "code",
   "execution_count": 16,
   "metadata": {},
   "outputs": [
    {
     "data": {
      "text/plain": [
       "'{\"topic\": \"TOPIC_NETWORK_EVENT\", \"payload\": {\"public_key\": \"2d2d2d2d2d424547494e205055424c4943204b45592d2d2d2d2d0a4d494942496a414e42676b71686b6947397730424151454641414f43415138414d49494243674b4341514541756d2f453944437a72696f335231764733734e650a6a4742597964554652643957356d4c57496579487176666d755579426c396b577831687a4545717a6e6c2f585147362b4d56726b66786a3362326d33466736780a78317664557a4a3166776e5271377a3362644f6d3473727a3441726735342f394d66524b326f3331357553325265614f5063464d457873486b6c2b5a7a346f680a693844632b623456656961307274677557434c4854303844366f6741575431614959312b78647044482f624a5948784c73426a6f2f65396c767a584b2b45686b0a5463717073733654306c345a544479697970564e2b7548522b51573232646e445349376c5850664f6e524b775048372b626a7139516b2b4d4f30755a48786e340a5a41475a784c672b6c6a435733374c79305a4c6868374b6c2b3864517237476565616944706e425a344238427a4d726446615257367074507842786d703862550a75514944415141420a2d2d2d2d2d454e44205055424c4943204b45592d2d2d2d2d0a\", \"host\": \"loclahost\", \"port\": \"5432\", \"event_type\": \"NETWORK_EVENT_CONNECT\", \"timestamp\": \"1556427071.8899207\", \"signature\": \"117c1fd283c08125f1633ddd8c2c3566fde946958a6a0d708bf0c582184deb87be5cdfb4564f47a12e20d5ccb9597932fdb724330176911a1bf5fe460333968d076cf7cde14be92aaa4693116ac4de7b985a5d4ddb1ce8753b53fea4777986c254dfbc36332c7343936f2aa88634347691d73fea21ab1552253f9acf74901b6cf498ce9b96b59c04ef2ae1ee5f09e7fb2e7153e90afa205ad78e8dcdcb3d36ca765408a450e6eb5b467bdcda502bb30c82c5fc1140ee293ef0036211bf3dfa5baec0235a4d0964456ad70e248d9c70f20e85ddfbc38b9b226ee69eaf30b631766e691d745bbd47937bf5df4c80b5e1b99b8f0195d3f753734a2be9d574d68480\"}}'"
      ]
     },
     "execution_count": 16,
     "metadata": {},
     "output_type": "execute_result"
    }
   ],
   "source": [
    "ne.as_json()"
   ]
  },
  {
   "cell_type": "code",
   "execution_count": 11,
   "metadata": {},
   "outputs": [
    {
     "data": {
      "text/plain": [
       "'ff0f'"
      ]
     },
     "execution_count": 11,
     "metadata": {},
     "output_type": "execute_result"
    }
   ],
   "source": [
    "bytes([255, 15]).hex()"
   ]
  },
  {
   "cell_type": "code",
   "execution_count": null,
   "metadata": {},
   "outputs": [],
   "source": [
    "(16).to_bytes()"
   ]
  },
  {
   "cell_type": "code",
   "execution_count": 4,
   "metadata": {},
   "outputs": [
    {
     "data": {
      "text/plain": [
       "False"
      ]
     },
     "execution_count": 4,
     "metadata": {},
     "output_type": "execute_result"
    }
   ],
   "source": [
    "hex(1) == bytes([1]).hex()"
   ]
  },
  {
   "cell_type": "code",
   "execution_count": 1,
   "metadata": {},
   "outputs": [],
   "source": [
    "from blockchain.blockchain import VerificationResult, VerificationFailure, VerificationSuccess"
   ]
  },
  {
   "cell_type": "code",
   "execution_count": 2,
   "metadata": {},
   "outputs": [
    {
     "data": {
      "text/plain": [
       "VerificationSuccess(result_code='asf', message='asfs', payload=None)"
      ]
     },
     "execution_count": 2,
     "metadata": {},
     "output_type": "execute_result"
    }
   ],
   "source": [
    "VerificationResult.success('asf', 'asfs')"
   ]
  },
  {
   "cell_type": "code",
   "execution_count": 4,
   "metadata": {},
   "outputs": [
    {
     "data": {
      "text/plain": [
       "VerificationFailure(result_code='asdf', message='asfa', payload='asf')"
      ]
     },
     "execution_count": 4,
     "metadata": {},
     "output_type": "execute_result"
    }
   ],
   "source": [
    "VerificationResult.failure('asdf', 'asfa', 'asf')"
   ]
  },
  {
   "cell_type": "code",
   "execution_count": 6,
   "metadata": {},
   "outputs": [
    {
     "data": {
      "text/plain": [
       "VerificationFailure(result_code='asf', message='asfa', payload='asfd')"
      ]
     },
     "execution_count": 6,
     "metadata": {},
     "output_type": "execute_result"
    }
   ],
   "source": [
    "VerificationFailure('asf', 'asfa', 'asfd')"
   ]
  },
  {
   "cell_type": "code",
   "execution_count": null,
   "metadata": {},
   "outputs": [],
   "source": []
  }
 ],
 "metadata": {
  "kernelspec": {
   "display_name": "Python 3",
   "language": "python",
   "name": "python3"
  },
  "language_info": {
   "codemirror_mode": {
    "name": "ipython",
    "version": 3
   },
   "file_extension": ".py",
   "mimetype": "text/x-python",
   "name": "python",
   "nbconvert_exporter": "python",
   "pygments_lexer": "ipython3",
   "version": "3.7.3"
  }
 },
 "nbformat": 4,
 "nbformat_minor": 2
}
