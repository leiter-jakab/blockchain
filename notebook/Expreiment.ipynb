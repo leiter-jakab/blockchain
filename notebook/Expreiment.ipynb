{
 "cells": [
  {
   "cell_type": "code",
   "execution_count": 1,
   "metadata": {},
   "outputs": [],
   "source": [
    "from blockchain.blockchain import Block, DataObject\n",
    "from blockchain.network_events import NetworkEvent, NetworkEventPayload\n",
    "from blockchain import signing"
   ]
  },
  {
   "cell_type": "code",
   "execution_count": 2,
   "metadata": {},
   "outputs": [
    {
     "data": {
      "text/plain": [
       "(<cryptography.hazmat.backends.openssl.rsa._RSAPrivateKey at 0x7f70c0831198>,\n",
       " <cryptography.hazmat.backends.openssl.rsa._RSAPublicKey at 0x7f70c0831208>)"
      ]
     },
     "execution_count": 2,
     "metadata": {},
     "output_type": "execute_result"
    }
   ],
   "source": [
    "pr, pu = signing.generate_keys()\n",
    "pr, pu"
   ]
  },
  {
   "cell_type": "code",
   "execution_count": 3,
   "metadata": {},
   "outputs": [],
   "source": [
    "block = Block.new_block((NetworkEvent.new_connect_event(pu, 'host', '234', pr),), None)"
   ]
  },
  {
   "cell_type": "code",
   "execution_count": 4,
   "metadata": {},
   "outputs": [],
   "source": [
    "def foo(self):\n",
    "    return self._replace(nonce='asdf')"
   ]
  },
  {
   "cell_type": "code",
   "execution_count": 6,
   "metadata": {},
   "outputs": [
    {
     "ename": "ValueError",
     "evalue": "Got unexpected field names: ['add_nonce']",
     "output_type": "error",
     "traceback": [
      "\u001b[0;31m---------------------------------------------------------------------------\u001b[0m",
      "\u001b[0;31mValueError\u001b[0m                                Traceback (most recent call last)",
      "\u001b[0;32m<ipython-input-6-1c9310453d45>\u001b[0m in \u001b[0;36m<module>\u001b[0;34m\u001b[0m\n\u001b[0;32m----> 1\u001b[0;31m \u001b[0mblock\u001b[0m\u001b[0;34m.\u001b[0m\u001b[0m_replace\u001b[0m\u001b[0;34m(\u001b[0m\u001b[0madd_nonce\u001b[0m \u001b[0;34m=\u001b[0m \u001b[0mfoo\u001b[0m\u001b[0;34m)\u001b[0m\u001b[0;34m\u001b[0m\u001b[0;34m\u001b[0m\u001b[0m\n\u001b[0m",
      "\u001b[0;32m/usr/lib/python3.7/collections/__init__.py\u001b[0m in \u001b[0;36m_replace\u001b[0;34m(_self, **kwds)\u001b[0m\n\u001b[1;32m    414\u001b[0m         \u001b[0mresult\u001b[0m \u001b[0;34m=\u001b[0m \u001b[0m_self\u001b[0m\u001b[0;34m.\u001b[0m\u001b[0m_make\u001b[0m\u001b[0;34m(\u001b[0m\u001b[0mmap\u001b[0m\u001b[0;34m(\u001b[0m\u001b[0mkwds\u001b[0m\u001b[0;34m.\u001b[0m\u001b[0mpop\u001b[0m\u001b[0;34m,\u001b[0m \u001b[0mfield_names\u001b[0m\u001b[0;34m,\u001b[0m \u001b[0m_self\u001b[0m\u001b[0;34m)\u001b[0m\u001b[0;34m)\u001b[0m\u001b[0;34m\u001b[0m\u001b[0;34m\u001b[0m\u001b[0m\n\u001b[1;32m    415\u001b[0m         \u001b[0;32mif\u001b[0m \u001b[0mkwds\u001b[0m\u001b[0;34m:\u001b[0m\u001b[0;34m\u001b[0m\u001b[0;34m\u001b[0m\u001b[0m\n\u001b[0;32m--> 416\u001b[0;31m             \u001b[0;32mraise\u001b[0m \u001b[0mValueError\u001b[0m\u001b[0;34m(\u001b[0m\u001b[0;34mf'Got unexpected field names: {list(kwds)!r}'\u001b[0m\u001b[0;34m)\u001b[0m\u001b[0;34m\u001b[0m\u001b[0;34m\u001b[0m\u001b[0m\n\u001b[0m\u001b[1;32m    417\u001b[0m         \u001b[0;32mreturn\u001b[0m \u001b[0mresult\u001b[0m\u001b[0;34m\u001b[0m\u001b[0;34m\u001b[0m\u001b[0m\n\u001b[1;32m    418\u001b[0m \u001b[0;34m\u001b[0m\u001b[0m\n",
      "\u001b[0;31mValueError\u001b[0m: Got unexpected field names: ['add_nonce']"
     ]
    }
   ],
   "source": [
    "block._replace(add_nonce = foo)"
   ]
  },
  {
   "cell_type": "code",
   "execution_count": 45,
   "metadata": {},
   "outputs": [
    {
     "data": {
      "text/plain": [
       "'{\"data\": [{\"topic\": \"TOPIC_NETWORK_EVENT\", \"payload\": [\"2d2d2d2d2d424547494e205055424c4943204b45592d2d2d2d2d0a4d494942496a414e42676b71686b6947397730424151454641414f43415138414d49494243674b434151454132682f4341736d644f6d61704849614e385761750a5a4b41767171492b6b4f6f5341636f39365a3661356938354d665361555839624c3466575231772f506479355334693931764236447848444b625967774d6c370a755261416c7a477374596b704461756f4e4b78522f4633637173474a78462f75534433766b493142374a3667565a3439387554484e346e75516432434f6152450a51306a76597465566f6f5874527a7433474a654a4b554a723552564c437578746b33754c56566657523658436f754b734269524e4b524d6e2f6f6d377057786d0a694a786a4530414a42522b5937383857554c785a41614169594c485a45462f4d3334523661436450687130355666486174395263622f674d504269507738412b0a536e637966324133354c32434e4a634e2b492f6261476d4f6c6a486977316d42646446766878512f37783255316f59517173324f6f2f70594c682b4e4a6750590a37774944415141420a2d2d2d2d2d454e44205055424c4943204b45592d2d2d2d2d0a\", \"host\", \"234\", \"NETWORK_EVENT_CONNECT\", \"1556432513.7042189\", \"36fc414f2a89940d71ab598370845e56927e3eebb03a6bdc6fd6a6b6705b92c63142a7538fffb4d8e186461f6008cbf8905e911fa35d47f563b00e283b2462a375104ccfae0d8a5cf184a57f27c433a118e34ffcdee684bbbc743d17381f31474aeb55603990840fbf87fcb520f7515da92b88f029a8579e5ac2a8cf35904893641a419426bedcfd80e964989096e5fba7dc2d175dd54bd947aa8ff84b6ac4e23d6e51c99d9161a05f42ddd4391274b26d23cda4c30015d6dc89a0185c5ed71a27759c83a8d287f1d3731c16c9900b5e1a6ae104f5af9b66923a570b3026bdce9cb12b448d82a2f0573fe3bef96e0730e146792e29f0a80c2ccfcc4c46b6c505\"]}], \"previous_block_hash\": \"\", \"nonce\": \"\"}'"
      ]
     },
     "execution_count": 45,
     "metadata": {},
     "output_type": "execute_result"
    }
   ],
   "source": [
    "block.as_json()"
   ]
  },
  {
   "cell_type": "code",
   "execution_count": 46,
   "metadata": {},
   "outputs": [],
   "source": [
    "msg = 'asdf'"
   ]
  },
  {
   "cell_type": "code",
   "execution_count": 47,
   "metadata": {},
   "outputs": [
    {
     "data": {
      "text/plain": [
       "'2d2d2d2d2d424547494e205055424c4943204b45592d2d2d2d2d0a4d494942496a414e42676b71686b6947397730424151454641414f43415138414d49494243674b434151454132682f4341736d644f6d61704849614e385761750a5a4b41767171492b6b4f6f5341636f39365a3661356938354d665361555839624c3466575231772f506479355334693931764236447848444b625967774d6c370a755261416c7a477374596b704461756f4e4b78522f4633637173474a78462f75534433766b493142374a3667565a3439387554484e346e75516432434f6152450a51306a76597465566f6f5874527a7433474a654a4b554a723552564c437578746b33754c56566657523658436f754b734269524e4b524d6e2f6f6d377057786d0a694a786a4530414a42522b5937383857554c785a41614169594c485a45462f4d3334523661436450687130355666486174395263622f674d504269507738412b0a536e637966324133354c32434e4a634e2b492f6261476d4f6c6a486977316d42646446766878512f37783255316f59517173324f6f2f70594c682b4e4a6750590a37774944415141420a2d2d2d2d2d454e44205055424c4943204b45592d2d2d2d2d0a'"
      ]
     },
     "execution_count": 47,
     "metadata": {},
     "output_type": "execute_result"
    }
   ],
   "source": [
    "pu_ser = signing.serialize_public_key_as_hex(pu)\n",
    "pu_ser"
   ]
  },
  {
   "cell_type": "code",
   "execution_count": 48,
   "metadata": {
    "scrolled": true
   },
   "outputs": [
    {
     "data": {
      "text/plain": [
       "b'4\\xb3L\"\\x98T\\xfa\\xb7\\xc8j\\xb2f\\x18qL\\xcc)q\\xf0h$\\x17%\\x12\\xe7\\xcb]\\xe8\\x83\\xc1\\x8f;\\r\\x07\\xd7\\x86\\x17\"*n\\xe9\\xe8\\x0e`\\xa8\\xc2\\xea\\xbf\\xf5 2\\x85\\xc6B\\xfd\\x17\\xd8\\xf7\\x04V\\x03\\xcd\\x1e\\x0e1\\x04|\\xd6\\xb6Un\\xb3\\xb0\\t\\xcb\\x00\\xe2\\x9a\\xa2\\x16\\xe8G\\xd3\\xdd\\xa3\\xb3\\xc1\\xbe\\x9c\\xea\\xb6R\\xec\\xc2\\xbc\\xc9\\xb2&\\x8d\\xfb\\xf8\\x99\"9{\\xd6\\xa38B\\xec\\x86MM}\\x1c6*\\xe1,UE\\x87\\xaa\\xc5\\xa3e\\xc2\\x8b\"\\x98hDH+\\xdf1\\x0f\\xf8r;\\xd3\\x1b\\xc2\\xca\\xb9\\xce\\x90\\xd2\\x01w\\x04\\x8f\\xc1\\xc6\\x16\\xc1rU Om.!\\x98\\x10\\xfaz\\xa6\\x17\\xb024\\x87e8g\\xb81\\xea\\xc4K\\x89_\\xedm\\xbbI\\xe8#\\xd5\\x0f[\\xaaw\\xc2\\xde\\xef\\x9e\\x1b(\\xdc\\x18B\\xf8\\xbb\\xe8&e\\xdf\\xad\\x85\\xa2XB.\\x18\\x02\\xf8\\x15_\\x9el\\x98\\xf6\\xa9(\\xc9\\x1a yy\\xf0\\xc9\\x05\\xf8\\t\\xdb\\xae\\xd9\\xb9\\xab\\xd9\\x96\\x98\\xda;\\xd8\\x15\\xd2w\\x95\\x1d2*<2'"
      ]
     },
     "execution_count": 48,
     "metadata": {},
     "output_type": "execute_result"
    }
   ],
   "source": [
    "sig = signing.sign(msg, pr)\n",
    "sig"
   ]
  },
  {
   "cell_type": "code",
   "execution_count": 49,
   "metadata": {},
   "outputs": [
    {
     "data": {
      "text/plain": [
       "True"
      ]
     },
     "execution_count": 49,
     "metadata": {},
     "output_type": "execute_result"
    }
   ],
   "source": [
    "signing.verify(msg, sig, pu)"
   ]
  },
  {
   "cell_type": "code",
   "execution_count": 50,
   "metadata": {},
   "outputs": [
    {
     "data": {
      "text/plain": [
       "'524ea7a6ef22748438cfe1d3a375263e27eadbfff4bd31b2b03686cc23c95c6b9843ccc71683219212603e162a537118101b70858ef4173c75bd6ae4998ef287f16011cf36f9e226329e5bf2f0345d530878c7ec0eefcf7730dc1ba64ae55e12dbc085a9175a91f2792bc883987473912e664ecbbe3a1ad70215d886c15476be0e08bcb9d8ee50eb184e5e974e154b9eda849969bf496a87aff45476a8b1d1613985b3726ba7031f7ac5e7c8ffe4d735a036c8f658ad41cb060d2578c938bb001939d46957528bb1faa08a165c8f5264f0b762b71d900103bbcdac18b588ebc451a018ef72cfe973bd59df8ffc463f5886859c1f2e806fd7f86cf5a1a029c1e3'"
      ]
     },
     "execution_count": 50,
     "metadata": {},
     "output_type": "execute_result"
    }
   ],
   "source": [
    "hex_sig = signing.sign_as_hex(msg, pr)\n",
    "hex_sig"
   ]
  },
  {
   "cell_type": "code",
   "execution_count": 51,
   "metadata": {},
   "outputs": [
    {
     "data": {
      "text/plain": [
       "True"
      ]
     },
     "execution_count": 51,
     "metadata": {},
     "output_type": "execute_result"
    }
   ],
   "source": [
    "signing.verify_hex(msg, hex_sig, pu)"
   ]
  },
  {
   "cell_type": "code",
   "execution_count": 52,
   "metadata": {},
   "outputs": [],
   "source": [
    "ne = NetworkEvent.new_connect_event(pu, 'loclahost', '5432', pr)"
   ]
  },
  {
   "cell_type": "code",
   "execution_count": 57,
   "metadata": {},
   "outputs": [
    {
     "data": {
      "text/plain": [
       "OrderedDict([('payload',\n",
       "              NetworkEventPayload(public_key='2d2d2d2d2d424547494e205055424c4943204b45592d2d2d2d2d0a4d494942496a414e42676b71686b6947397730424151454641414f43415138414d49494243674b434151454132682f4341736d644f6d61704849614e385761750a5a4b41767171492b6b4f6f5341636f39365a3661356938354d665361555839624c3466575231772f506479355334693931764236447848444b625967774d6c370a755261416c7a477374596b704461756f4e4b78522f4633637173474a78462f75534433766b493142374a3667565a3439387554484e346e75516432434f6152450a51306a76597465566f6f5874527a7433474a654a4b554a723552564c437578746b33754c56566657523658436f754b734269524e4b524d6e2f6f6d377057786d0a694a786a4530414a42522b5937383857554c785a41614169594c485a45462f4d3334523661436450687130355666486174395263622f674d504269507738412b0a536e637966324133354c32434e4a634e2b492f6261476d4f6c6a486977316d42646446766878512f37783255316f59517173324f6f2f70594c682b4e4a6750590a37774944415141420a2d2d2d2d2d454e44205055424c4943204b45592d2d2d2d2d0a', host='loclahost', port='5432', event_type='NETWORK_EVENT_CONNECT', timestamp='1556432628.0366096', signature='4ddc70529171181a017749d1885b72abeb7f3a75933aa0a021526f5ed693bb057dadd25720a0909c52b748ca4e803d5628b5d732c202f83147df1cbecd206855f63b8a51c0bdc9c473382f27945151b606daffe568c85f212ea3110b423d553b275db88d0d2bf7f868c433e06a5dd06873ef053687dcaab5669c59f0f872e5a29de1eac75d907f5d92d0fd8ee1237c4b8397e506fa9e446078cc56d5b75e1c736808e677f232a298cd106d9ec09676d30d43608dbe0ef3b17ae2e69e4bc5d06acf109d89d9cbb7966f9ba2e2eaa279f5f8c9319443c75960d1b6e8ea9df16d586bd30d9608eccb864d3f6b3c80b010a1863e8f35559fedfd8e37f3d3e8ff5ce4')),\n",
       "             ('topic', 'TOPIC_NETWORK_EVENT')])"
      ]
     },
     "execution_count": 57,
     "metadata": {},
     "output_type": "execute_result"
    }
   ],
   "source": [
    "ne._asdict()"
   ]
  },
  {
   "cell_type": "code",
   "execution_count": 56,
   "metadata": {},
   "outputs": [
    {
     "data": {
      "text/plain": [
       "'{\"payload\": [\"2d2d2d2d2d424547494e205055424c4943204b45592d2d2d2d2d0a4d494942496a414e42676b71686b6947397730424151454641414f43415138414d49494243674b434151454132682f4341736d644f6d61704849614e385761750a5a4b41767171492b6b4f6f5341636f39365a3661356938354d665361555839624c3466575231772f506479355334693931764236447848444b625967774d6c370a755261416c7a477374596b704461756f4e4b78522f4633637173474a78462f75534433766b493142374a3667565a3439387554484e346e75516432434f6152450a51306a76597465566f6f5874527a7433474a654a4b554a723552564c437578746b33754c56566657523658436f754b734269524e4b524d6e2f6f6d377057786d0a694a786a4530414a42522b5937383857554c785a41614169594c485a45462f4d3334523661436450687130355666486174395263622f674d504269507738412b0a536e637966324133354c32434e4a634e2b492f6261476d4f6c6a486977316d42646446766878512f37783255316f59517173324f6f2f70594c682b4e4a6750590a37774944415141420a2d2d2d2d2d454e44205055424c4943204b45592d2d2d2d2d0a\", \"loclahost\", \"5432\", \"NETWORK_EVENT_CONNECT\", \"1556432628.0366096\", \"4ddc70529171181a017749d1885b72abeb7f3a75933aa0a021526f5ed693bb057dadd25720a0909c52b748ca4e803d5628b5d732c202f83147df1cbecd206855f63b8a51c0bdc9c473382f27945151b606daffe568c85f212ea3110b423d553b275db88d0d2bf7f868c433e06a5dd06873ef053687dcaab5669c59f0f872e5a29de1eac75d907f5d92d0fd8ee1237c4b8397e506fa9e446078cc56d5b75e1c736808e677f232a298cd106d9ec09676d30d43608dbe0ef3b17ae2e69e4bc5d06acf109d89d9cbb7966f9ba2e2eaa279f5f8c9319443c75960d1b6e8ea9df16d586bd30d9608eccb864d3f6b3c80b010a1863e8f35559fedfd8e37f3d3e8ff5ce4\"], \"topic\": \"TOPIC_NETWORK_EVENT\"}'"
      ]
     },
     "execution_count": 56,
     "metadata": {},
     "output_type": "execute_result"
    }
   ],
   "source": [
    "json.dumps(ne._asdict())"
   ]
  },
  {
   "cell_type": "code",
   "execution_count": 18,
   "metadata": {},
   "outputs": [],
   "source": [
    "ne.payload['host'] = '123.12.323.23'"
   ]
  },
  {
   "cell_type": "code",
   "execution_count": 19,
   "metadata": {},
   "outputs": [
    {
     "data": {
      "text/plain": [
       "VerificationFailure(result_code='SIGNATURE_NOK', message='signature does not match key-pair', payload=None)"
      ]
     },
     "execution_count": 19,
     "metadata": {},
     "output_type": "execute_result"
    }
   ],
   "source": [
    "ne.verify()"
   ]
  },
  {
   "cell_type": "code",
   "execution_count": 16,
   "metadata": {},
   "outputs": [
    {
     "data": {
      "text/plain": [
       "'{\"topic\": \"TOPIC_NETWORK_EVENT\", \"payload\": {\"public_key\": \"2d2d2d2d2d424547494e205055424c4943204b45592d2d2d2d2d0a4d494942496a414e42676b71686b6947397730424151454641414f43415138414d49494243674b4341514541756d2f453944437a72696f335231764733734e650a6a4742597964554652643957356d4c57496579487176666d755579426c396b577831687a4545717a6e6c2f585147362b4d56726b66786a3362326d33466736780a78317664557a4a3166776e5271377a3362644f6d3473727a3441726735342f394d66524b326f3331357553325265614f5063464d457873486b6c2b5a7a346f680a693844632b623456656961307274677557434c4854303844366f6741575431614959312b78647044482f624a5948784c73426a6f2f65396c767a584b2b45686b0a5463717073733654306c345a544479697970564e2b7548522b51573232646e445349376c5850664f6e524b775048372b626a7139516b2b4d4f30755a48786e340a5a41475a784c672b6c6a435733374c79305a4c6868374b6c2b3864517237476565616944706e425a344238427a4d726446615257367074507842786d703862550a75514944415141420a2d2d2d2d2d454e44205055424c4943204b45592d2d2d2d2d0a\", \"host\": \"loclahost\", \"port\": \"5432\", \"event_type\": \"NETWORK_EVENT_CONNECT\", \"timestamp\": \"1556427071.8899207\", \"signature\": \"117c1fd283c08125f1633ddd8c2c3566fde946958a6a0d708bf0c582184deb87be5cdfb4564f47a12e20d5ccb9597932fdb724330176911a1bf5fe460333968d076cf7cde14be92aaa4693116ac4de7b985a5d4ddb1ce8753b53fea4777986c254dfbc36332c7343936f2aa88634347691d73fea21ab1552253f9acf74901b6cf498ce9b96b59c04ef2ae1ee5f09e7fb2e7153e90afa205ad78e8dcdcb3d36ca765408a450e6eb5b467bdcda502bb30c82c5fc1140ee293ef0036211bf3dfa5baec0235a4d0964456ad70e248d9c70f20e85ddfbc38b9b226ee69eaf30b631766e691d745bbd47937bf5df4c80b5e1b99b8f0195d3f753734a2be9d574d68480\"}}'"
      ]
     },
     "execution_count": 16,
     "metadata": {},
     "output_type": "execute_result"
    }
   ],
   "source": [
    "ne.as_json()"
   ]
  },
  {
   "cell_type": "code",
   "execution_count": 35,
   "metadata": {},
   "outputs": [],
   "source": [
    "nep = NetworkEventPayload('asdf', 'asfd', 'asfd', 'asf', 'asf', 'asdf')"
   ]
  },
  {
   "cell_type": "code",
   "execution_count": 62,
   "metadata": {},
   "outputs": [],
   "source": [
    "nep_d = nep._asdict()"
   ]
  },
  {
   "cell_type": "code",
   "execution_count": 64,
   "metadata": {},
   "outputs": [],
   "source": [
    "del nep_d['host']"
   ]
  },
  {
   "cell_type": "code",
   "execution_count": 65,
   "metadata": {},
   "outputs": [
    {
     "data": {
      "text/plain": [
       "OrderedDict([('public_key', 'asdf'),\n",
       "             ('port', 'asfd'),\n",
       "             ('event_type', 'asf'),\n",
       "             ('timestamp', 'asf'),\n",
       "             ('signature', 'asdf')])"
      ]
     },
     "execution_count": 65,
     "metadata": {},
     "output_type": "execute_result"
    }
   ],
   "source": [
    "nep_d"
   ]
  },
  {
   "cell_type": "code",
   "execution_count": 39,
   "metadata": {},
   "outputs": [
    {
     "data": {
      "text/plain": [
       "'{\"public_key\": \"asdf\", \"host\": \"asfd\", \"port\": \"asfd\", \"event_type\": \"asf\", \"timestamp\": \"asf\", \"signature\": \"asdf\"}'"
      ]
     },
     "execution_count": 39,
     "metadata": {},
     "output_type": "execute_result"
    }
   ],
   "source": [
    "json.dumps(nep._asdict())"
   ]
  },
  {
   "cell_type": "code",
   "execution_count": 28,
   "metadata": {},
   "outputs": [],
   "source": [
    "nep = {'public_key': 'asf', 'host': 'asf', 'port': '234', 'event_type': 'asf', 'timestamp': 12, 'signature': 'asdf'}"
   ]
  },
  {
   "cell_type": "code",
   "execution_count": 29,
   "metadata": {},
   "outputs": [
    {
     "data": {
      "text/plain": [
       "{'public_key': 'asf',\n",
       " 'host': 'asf',\n",
       " 'port': '234',\n",
       " 'event_type': 'asf',\n",
       " 'timestamp': 12,\n",
       " 'signature': 'asdf'}"
      ]
     },
     "execution_count": 29,
     "metadata": {},
     "output_type": "execute_result"
    }
   ],
   "source": [
    "nep"
   ]
  },
  {
   "cell_type": "code",
   "execution_count": 30,
   "metadata": {},
   "outputs": [],
   "source": [
    "del nep['public_key']"
   ]
  },
  {
   "cell_type": "code",
   "execution_count": 31,
   "metadata": {},
   "outputs": [
    {
     "data": {
      "text/plain": [
       "{'host': 'asf',\n",
       " 'port': '234',\n",
       " 'event_type': 'asf',\n",
       " 'timestamp': 12,\n",
       " 'signature': 'asdf'}"
      ]
     },
     "execution_count": 31,
     "metadata": {},
     "output_type": "execute_result"
    }
   ],
   "source": [
    "nep"
   ]
  },
  {
   "cell_type": "code",
   "execution_count": 32,
   "metadata": {},
   "outputs": [
    {
     "data": {
      "text/plain": [
       "int"
      ]
     },
     "execution_count": 32,
     "metadata": {},
     "output_type": "execute_result"
    }
   ],
   "source": [
    "type(nep['timestamp'])"
   ]
  },
  {
   "cell_type": "code",
   "execution_count": 33,
   "metadata": {},
   "outputs": [
    {
     "ename": "TypeError",
     "evalue": "__new__() missing 1 required positional argument: 'public_key'",
     "output_type": "error",
     "traceback": [
      "\u001b[0;31m---------------------------------------------------------------------------\u001b[0m",
      "\u001b[0;31mTypeError\u001b[0m                                 Traceback (most recent call last)",
      "\u001b[0;32m<ipython-input-33-8da0c7fcebdc>\u001b[0m in \u001b[0;36m<module>\u001b[0;34m\u001b[0m\n\u001b[0;32m----> 1\u001b[0;31m \u001b[0mNetworkEventPayload\u001b[0m\u001b[0;34m(\u001b[0m\u001b[0;34m**\u001b[0m\u001b[0mnep\u001b[0m\u001b[0;34m)\u001b[0m\u001b[0;34m\u001b[0m\u001b[0;34m\u001b[0m\u001b[0m\n\u001b[0m",
      "\u001b[0;31mTypeError\u001b[0m: __new__() missing 1 required positional argument: 'public_key'"
     ]
    }
   ],
   "source": [
    "NetworkEventPayload(**nep)"
   ]
  },
  {
   "cell_type": "code",
   "execution_count": 19,
   "metadata": {},
   "outputs": [],
   "source": [
    "import json"
   ]
  },
  {
   "cell_type": "code",
   "execution_count": 21,
   "metadata": {},
   "outputs": [],
   "source": [
    "nep_json = json.dumps(nep)"
   ]
  },
  {
   "cell_type": "code",
   "execution_count": 22,
   "metadata": {},
   "outputs": [
    {
     "data": {
      "text/plain": [
       "{'public_key': 'asf',\n",
       " 'host': 'asf',\n",
       " 'port': '234',\n",
       " 'event_type': 'asf',\n",
       " 'timestamp': 12.1,\n",
       " 'signature': 'asdf'}"
      ]
     },
     "execution_count": 22,
     "metadata": {},
     "output_type": "execute_result"
    }
   ],
   "source": [
    "json.loads(nep_json)"
   ]
  },
  {
   "cell_type": "code",
   "execution_count": 11,
   "metadata": {},
   "outputs": [
    {
     "data": {
      "text/plain": [
       "'ff0f'"
      ]
     },
     "execution_count": 11,
     "metadata": {},
     "output_type": "execute_result"
    }
   ],
   "source": [
    "bytes([255, 15]).hex()"
   ]
  },
  {
   "cell_type": "code",
   "execution_count": null,
   "metadata": {},
   "outputs": [],
   "source": [
    "(16).to_bytes()"
   ]
  },
  {
   "cell_type": "code",
   "execution_count": 4,
   "metadata": {},
   "outputs": [
    {
     "data": {
      "text/plain": [
       "False"
      ]
     },
     "execution_count": 4,
     "metadata": {},
     "output_type": "execute_result"
    }
   ],
   "source": [
    "hex(1) == bytes([1]).hex()"
   ]
  },
  {
   "cell_type": "code",
   "execution_count": 1,
   "metadata": {},
   "outputs": [],
   "source": [
    "from blockchain.blockchain import VerificationResult, VerificationFailure, VerificationSuccess"
   ]
  },
  {
   "cell_type": "code",
   "execution_count": 2,
   "metadata": {},
   "outputs": [
    {
     "data": {
      "text/plain": [
       "VerificationSuccess(result_code='asf', message='asfs', payload=None)"
      ]
     },
     "execution_count": 2,
     "metadata": {},
     "output_type": "execute_result"
    }
   ],
   "source": [
    "VerificationResult.success('asf', 'asfs')"
   ]
  },
  {
   "cell_type": "code",
   "execution_count": 4,
   "metadata": {},
   "outputs": [
    {
     "data": {
      "text/plain": [
       "VerificationFailure(result_code='asdf', message='asfa', payload='asf')"
      ]
     },
     "execution_count": 4,
     "metadata": {},
     "output_type": "execute_result"
    }
   ],
   "source": [
    "VerificationResult.failure('asdf', 'asfa', 'asf')"
   ]
  },
  {
   "cell_type": "code",
   "execution_count": 6,
   "metadata": {},
   "outputs": [
    {
     "data": {
      "text/plain": [
       "VerificationFailure(result_code='asf', message='asfa', payload='asfd')"
      ]
     },
     "execution_count": 6,
     "metadata": {},
     "output_type": "execute_result"
    }
   ],
   "source": [
    "VerificationFailure('asf', 'asfa', 'asfd')"
   ]
  },
  {
   "cell_type": "code",
   "execution_count": 16,
   "metadata": {},
   "outputs": [
    {
     "data": {
      "text/plain": [
       "'ff86219a'"
      ]
     },
     "execution_count": 16,
     "metadata": {},
     "output_type": "execute_result"
    }
   ],
   "source": [
    "bytes([255, 134, 33, 154]).hex()"
   ]
  }
 ],
 "metadata": {
  "kernelspec": {
   "display_name": "Python 3",
   "language": "python",
   "name": "python3"
  },
  "language_info": {
   "codemirror_mode": {
    "name": "ipython",
    "version": 3
   },
   "file_extension": ".py",
   "mimetype": "text/x-python",
   "name": "python",
   "nbconvert_exporter": "python",
   "pygments_lexer": "ipython3",
   "version": "3.7.3"
  }
 },
 "nbformat": 4,
 "nbformat_minor": 2
}
