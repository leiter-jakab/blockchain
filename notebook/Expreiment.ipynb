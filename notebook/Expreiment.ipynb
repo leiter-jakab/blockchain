{
 "cells": [
  {
   "cell_type": "code",
   "execution_count": 2,
   "metadata": {},
   "outputs": [],
   "source": [
    "from blockchain.blockchain import Block, NetworkEvent, DataObject\n",
    "from blockchain import signature"
   ]
  },
  {
   "cell_type": "code",
   "execution_count": 3,
   "metadata": {},
   "outputs": [],
   "source": [
    "block = Block.new_block('asdf', None)"
   ]
  },
  {
   "cell_type": "code",
   "execution_count": 4,
   "metadata": {},
   "outputs": [
    {
     "data": {
      "text/plain": [
       "Block(data='asdf', previous_block_hash=b'', nonce=None)"
      ]
     },
     "execution_count": 4,
     "metadata": {},
     "output_type": "execute_result"
    }
   ],
   "source": [
    "block"
   ]
  },
  {
   "cell_type": "code",
   "execution_count": 5,
   "metadata": {},
   "outputs": [
    {
     "data": {
      "text/plain": [
       "(<cryptography.hazmat.backends.openssl.rsa._RSAPrivateKey at 0x7f37984867b8>,\n",
       " <cryptography.hazmat.backends.openssl.rsa._RSAPublicKey at 0x7f3798486828>)"
      ]
     },
     "execution_count": 5,
     "metadata": {},
     "output_type": "execute_result"
    }
   ],
   "source": [
    "pr, pu = signature.generate_keys()\n",
    "pr, pu"
   ]
  },
  {
   "cell_type": "code",
   "execution_count": 6,
   "metadata": {},
   "outputs": [],
   "source": [
    "msg = 'asdf'"
   ]
  },
  {
   "cell_type": "code",
   "execution_count": 7,
   "metadata": {},
   "outputs": [
    {
     "data": {
      "text/plain": [
       "'2d2d2d2d2d424547494e205055424c4943204b45592d2d2d2d2d0a4d494942496a414e42676b71686b6947397730424151454641414f43415138414d49494243674b434151454131357255564543336833444e7278795530386e2b0a6a4833696f557a394b7458744954796644514c556c774470636a4d6c6d715152366c376a356c2b3639446448762f5969454437596d536f31732b43617a314f420a4f41692f4433396d33723449396d6e72534a7577395251362f50626a6357436d4b78534a33644c56714e506d3575772b5972356c7779466f63494f737336326c0a3466694164673271703368732f6e4d656d304c564f7037703741342f657734637050426f7a4e736844783543466c4e4a7954366539474d323439594c6c7673770a5579456e54563549697a2b4d7357617278435a777a2b476557377361775839327469453442555a614f6d6c6778685948527149536b2b464d4f483149326e61690a426d46344b5968437949646c53464a53664958326b6b564545412f416d4b597a636c6655654830386f723736534e7243666b6e38334632514d6f53562f316e550a63774944415141420a2d2d2d2d2d454e44205055424c4943204b45592d2d2d2d2d0a'"
      ]
     },
     "execution_count": 7,
     "metadata": {},
     "output_type": "execute_result"
    }
   ],
   "source": [
    "pu_ser = signature.serialize_public_key_as_hex(pu)\n",
    "pu_ser"
   ]
  },
  {
   "cell_type": "code",
   "execution_count": 8,
   "metadata": {
    "scrolled": true
   },
   "outputs": [
    {
     "data": {
      "text/plain": [
       "b'\\xc4p\\x1e\\x81\\xe0\\xcd\\x1b|\\x1b\\xcd\\x19zD;#C\\xb4]\\xee\\x11YQ\\'\\xc7\\xd3\\xe0\\xfb\\x99\\xae\\xf1sy=\\x90Daa\\xd8\\x93\\x17vs\\r\\x04\\\\\\x13\\xfc\\x8c\\xba\\x97\\xff \\x03!\\xbas\\x91\\xabE\\x8d\\xf8\\x93\\x87\\xee\\xae\\x99\\x0e\\xeb\\xf7ZV\\xb3is\\xa4\\x01\\x00-\\xdcq\\x99E\\xb1\\xb3> S\\xd67\\xd0N\\x98\\x1d\\xc0\\xadlX\\xd5Y\\x02\\xac\\x85\\xb7f(\\xc8\\x17\\x8dYw\\\\Q\\x953\\xcdS\\x00\\xff\\xb4(vu\\\\\\xf3N\\xc0\\x1b\\xd0\\xe3\\xa4C\\xfb\\xb0\\xb6\\x92\\x8e8L\\xbe5\\xd8\\xd6mSh\\x93\\x0b\\x1btT>\\x1d\\xf2\\xf9\\xe2\\x83\\xf9\\xf9\\xce\\x9fHWj`\\xf8\\xde\\xe7q\\x98\\r\\xeb>46\\xc10\\xec\\xb0y\\xe6\\x11\\x00u\\xdbZ\\xaa\\xc1\\xb2?*TO\\xff\\xcd-\\n\\xd6t\\x90\\x1f\\xf5AQ\\xff\\x94\\xfe@L_\\x1b\\xcf\\x9em\\x1e\\xc1\\x0c\"\\xaa\\x93\\xe9L\\x0f+\\xf9\\x7f\\xc5\\x02\\x97\\x81\\xd1\\x9e\\xdd\\xdb|\\xa8\\xea\\x1b\\x1fm\\xbc-\\x8c\\xf2\\x8f\\xd3\\x9b\\xbfC\\xc3\\xbc\\xf6;]/T\\x90'"
      ]
     },
     "execution_count": 8,
     "metadata": {},
     "output_type": "execute_result"
    }
   ],
   "source": [
    "sig = signature.sign(msg, pr)\n",
    "sig"
   ]
  },
  {
   "cell_type": "code",
   "execution_count": 9,
   "metadata": {},
   "outputs": [
    {
     "data": {
      "text/plain": [
       "True"
      ]
     },
     "execution_count": 9,
     "metadata": {},
     "output_type": "execute_result"
    }
   ],
   "source": [
    "signature.verify(msg, sig, pu)"
   ]
  },
  {
   "cell_type": "code",
   "execution_count": 10,
   "metadata": {},
   "outputs": [
    {
     "data": {
      "text/plain": [
       "'8e846f79e8329493b016c8e2ce2b4aea951b90c023daeb63ba8f6d19d6d6e4eb72dc563b4416f45039c4e081a755eced915b9193f1875b7a0b6eb415a8b73586b19cac59ebcb9d70df32767f21233f0f50ff2ff838623f99318a505ce4674f7dac5186f09b6cf366ced923ebf98cbcd0d1ad80ba778f412d57eed04e5342700122b65e4490be97f8d6a7be7d622c6c50903ec51481eb040b6b78b3e50123a81e2d997b560696a352679baa9beb3af6c8c37c8c43899c93f205be6216a8cb2b955d6e39a93101da34dbd81b973b815d31158794ceadf325432ef7477e4b65b6a01bf638c59335fba0319d3af77b0bbda15fc99b20085407f69e5b07604c42e1c3'"
      ]
     },
     "execution_count": 10,
     "metadata": {},
     "output_type": "execute_result"
    }
   ],
   "source": [
    "hex_sig = signature.sign_as_hex(msg, pr)\n",
    "hex_sig"
   ]
  },
  {
   "cell_type": "code",
   "execution_count": 11,
   "metadata": {},
   "outputs": [
    {
     "data": {
      "text/plain": [
       "True"
      ]
     },
     "execution_count": 11,
     "metadata": {},
     "output_type": "execute_result"
    }
   ],
   "source": [
    "signature.verify_hex(msg, hex_sig, pu)"
   ]
  },
  {
   "cell_type": "code",
   "execution_count": 12,
   "metadata": {},
   "outputs": [],
   "source": [
    "ne = NetworkEvent.new_connect_event(pu, 'loclahost', '5432', pr)"
   ]
  },
  {
   "cell_type": "code",
   "execution_count": 13,
   "metadata": {},
   "outputs": [
    {
     "data": {
      "text/plain": [
       "VerificationSuccess(result_code='SIGNATURE_OK', message='signature matches key-pair')"
      ]
     },
     "execution_count": 13,
     "metadata": {},
     "output_type": "execute_result"
    }
   ],
   "source": [
    "ne.verify()"
   ]
  },
  {
   "cell_type": "code",
   "execution_count": null,
   "metadata": {},
   "outputs": [],
   "source": []
  }
 ],
 "metadata": {
  "kernelspec": {
   "display_name": "Python 3",
   "language": "python",
   "name": "python3"
  },
  "language_info": {
   "codemirror_mode": {
    "name": "ipython",
    "version": 3
   },
   "file_extension": ".py",
   "mimetype": "text/x-python",
   "name": "python",
   "nbconvert_exporter": "python",
   "pygments_lexer": "ipython3",
   "version": "3.7.3"
  }
 },
 "nbformat": 4,
 "nbformat_minor": 2
}
